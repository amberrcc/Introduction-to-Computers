{
  "nbformat": 4,
  "nbformat_minor": 0,
  "metadata": {
    "colab": {
      "provenance": [],
      "authorship_tag": "ABX9TyOMXahcnqKCKxOD+iIu7hE0",
      "include_colab_link": true
    },
    "kernelspec": {
      "name": "python3",
      "display_name": "Python 3"
    },
    "language_info": {
      "name": "python"
    }
  },
  "cells": [
    {
      "cell_type": "markdown",
      "metadata": {
        "id": "view-in-github",
        "colab_type": "text"
      },
      "source": [
        "<a href=\"https://colab.research.google.com/github/amberrcc/Introduction-to-Computers/blob/main/0508.ipynb\" target=\"_parent\"><img src=\"https://colab.research.google.com/assets/colab-badge.svg\" alt=\"Open In Colab\"/></a>"
      ]
    },
    {
      "cell_type": "code",
      "execution_count": 1,
      "metadata": {
        "colab": {
          "base_uri": "https://localhost:8080/"
        },
        "id": "PgtxyDmzpgQa",
        "outputId": "413f2b25-70f7-4d92-df0c-3aa0bebd78a0"
      },
      "outputs": [
        {
          "output_type": "stream",
          "name": "stdout",
          "text": [
            "0508\n"
          ]
        }
      ],
      "source": [
        "print(\"0508\")"
      ]
    },
    {
      "cell_type": "code",
      "source": [
        "score = int ( input ( \" 請輸入分數 \" ) ) \n",
        "if score >= 60 :\n",
        "  print ( \"及格\" )\n",
        "else:\n",
        "  print ( \"不及格\" )\n",
        "  "
      ],
      "metadata": {
        "colab": {
          "base_uri": "https://localhost:8080/"
        },
        "id": "qETqwVZmppSv",
        "outputId": "c2a3989f-b842-481e-90b1-0906b8ac80e1"
      },
      "execution_count": 4,
      "outputs": [
        {
          "output_type": "stream",
          "name": "stdout",
          "text": [
            " 請輸入分數 50\n",
            "不及格\n"
          ]
        }
      ]
    },
    {
      "cell_type": "code",
      "source": [
        "password = int ( input ( \" 請輸入密碼 \" ) )\n",
        "if password == 1234 : \n",
        "  print ( \" 歡迎光臨！ \" ) \n",
        "else :\n",
        "  print ( \" 密碼錯誤，請重新輸入！ \" )"
      ],
      "metadata": {
        "colab": {
          "base_uri": "https://localhost:8080/"
        },
        "id": "p-14QCc7qs5g",
        "outputId": "c61f8f05-c565-4ad1-bcec-fca979c8e626"
      },
      "execution_count": 16,
      "outputs": [
        {
          "output_type": "stream",
          "name": "stdout",
          "text": [
            " 請輸入密碼 1111\n",
            " 密碼錯誤，請重新輸入！ \n"
          ]
        }
      ]
    },
    {
      "cell_type": "code",
      "source": [
        "number = int ( input ( \" 請輸入正整數 \" ) )\n",
        "if (number % 2 ) == 0 :\n",
        "  print ( number, \" 為偶數 \" )\n",
        "else :\n",
        "  print ( number , \" 為奇數 \" )\n",
        "  "
      ],
      "metadata": {
        "colab": {
          "base_uri": "https://localhost:8080/"
        },
        "id": "DjJUvUE2y13g",
        "outputId": "fb1a9375-9ec0-48e3-b9dd-a2111d2c9c30"
      },
      "execution_count": 17,
      "outputs": [
        {
          "output_type": "stream",
          "name": "stdout",
          "text": [
            " 請輸入正整數 7\n",
            "7  為奇數 \n"
          ]
        }
      ]
    },
    {
      "cell_type": "code",
      "source": [],
      "metadata": {
        "id": "TeaubyMavehu"
      },
      "execution_count": null,
      "outputs": []
    }
  ]
}