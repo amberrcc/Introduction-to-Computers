{
  "nbformat": 4,
  "nbformat_minor": 0,
  "metadata": {
    "colab": {
      "provenance": [],
      "authorship_tag": "ABX9TyNW2AfCZIfkDFt4aQBczzc9",
      "include_colab_link": true
    },
    "kernelspec": {
      "name": "python3",
      "display_name": "Python 3"
    },
    "language_info": {
      "name": "python"
    }
  },
  "cells": [
    {
      "cell_type": "markdown",
      "metadata": {
        "id": "view-in-github",
        "colab_type": "text"
      },
      "source": [
        "<a href=\"https://colab.research.google.com/github/amberrcc/Introduction-to-Computers/blob/main/0515.ipynb\" target=\"_parent\"><img src=\"https://colab.research.google.com/assets/colab-badge.svg\" alt=\"Open In Colab\"/></a>"
      ]
    },
    {
      "cell_type": "code",
      "execution_count": null,
      "metadata": {
        "colab": {
          "base_uri": "https://localhost:8080/"
        },
        "id": "JO3hDGK7h7vB",
        "outputId": "38e226a7-00e1-4c1f-be3f-34e29138a29a"
      },
      "outputs": [
        {
          "output_type": "stream",
          "name": "stdout",
          "text": [
            "0515\n"
          ]
        }
      ],
      "source": [
        "print(\"0515\")"
      ]
    },
    {
      "cell_type": "code",
      "source": [
        "rain = input ( \" 會下雨嗎? \" ) \n",
        "if ( rain == \"Y\" or rain == \"y\" ) :\n",
        "  print ( \" 出門記得帶傘！\") \n",
        "elif ( rain == \"N\" or rain == \"n\") :\n",
        "  print ( \" 不用帶傘！ \" )\n",
        "else :\n",
        "  print ( \" 請重新輸入！ \" )\n"
      ],
      "metadata": {
        "colab": {
          "base_uri": "https://localhost:8080/"
        },
        "id": "Sg7XVtZajB5F",
        "outputId": "becb3a82-9e2d-4d5d-e7e1-5b5d98b509d7"
      },
      "execution_count": 52,
      "outputs": [
        {
          "output_type": "stream",
          "name": "stdout",
          "text": [
            " 會下雨嗎? b\n",
            " 請重新輸入！ \n"
          ]
        }
      ]
    },
    {
      "cell_type": "code",
      "source": [
        "temperature = float ( input ( \" 請輸入體溫 \" ) )\n",
        "if ( temperature >= 37.5 ) :\n",
        "  print ( \" 體溫過高！ \" ) \n",
        "elif ( temperature >= 37 ) :\n",
        "  print ( \" 體溫略高！ \" ) \n",
        "elif ( temperature >= 34 ) :\n",
        "  print ( \" 體溫正常！ \" ) \n",
        "else :\n",
        "  print ( \" 體溫異常，請重新量測！ \" ) "
      ],
      "metadata": {
        "colab": {
          "base_uri": "https://localhost:8080/"
        },
        "id": "rHTRX2LqkYpz",
        "outputId": "dd09fe6d-a6ae-4149-a04b-9d7661a1968e"
      },
      "execution_count": 32,
      "outputs": [
        {
          "output_type": "stream",
          "name": "stdout",
          "text": [
            " 請輸入體溫 37.5\n",
            " 體溫過高！ \n"
          ]
        }
      ]
    },
    {
      "cell_type": "code",
      "source": [
        "money = int ( input ( \" 請輸入今年收入淨額 \" ) )\n",
        "if ( money >= 2000000 ) :\n",
        "  print ( \"付稅金額:\", money*0.3, \"元\")\n",
        "elif ( money >= 1000000 ) :\n",
        "  print ( \"付稅金額:\", '%.2f'%(money*0.21), \"元\")\n",
        "elif ( money >= 600000 ) :\n",
        "  print ( \"付稅金額:\", '%.2f'%(money*0.13), \"元\")\n",
        "elif ( money >= 300000 ) :\n",
        "  print ( \"付稅金額:\", money*0.06, \"元\")\n",
        "else :\n",
        "  print ( \" 付稅金額0元 \" )\n"
      ],
      "metadata": {
        "colab": {
          "base_uri": "https://localhost:8080/"
        },
        "id": "0Be_um7BqTHv",
        "outputId": "46a70072-95ec-48a4-a334-cd4b15249e74"
      },
      "execution_count": 51,
      "outputs": [
        {
          "output_type": "stream",
          "name": "stdout",
          "text": [
            " 請輸入今年收入淨額 600022\n",
            "付稅金額: 78002.86 元\n",
            "600022\n"
          ]
        }
      ]
    },
    {
      "cell_type": "code",
      "source": [],
      "metadata": {
        "id": "QnyCC7xcuhGs"
      },
      "execution_count": null,
      "outputs": []
    }
  ]
}