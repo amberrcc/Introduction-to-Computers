{
  "nbformat": 4,
  "nbformat_minor": 0,
  "metadata": {
    "colab": {
      "provenance": [],
      "authorship_tag": "ABX9TyP4mFeIXbmZlS5YJC69VP2r",
      "include_colab_link": true
    },
    "kernelspec": {
      "name": "python3",
      "display_name": "Python 3"
    },
    "language_info": {
      "name": "python"
    }
  },
  "cells": [
    {
      "cell_type": "markdown",
      "metadata": {
        "id": "view-in-github",
        "colab_type": "text"
      },
      "source": [
        "<a href=\"https://colab.research.google.com/github/amberrcc/Introduction-to-Computers/blob/main/0501.ipynb\" target=\"_parent\"><img src=\"https://colab.research.google.com/assets/colab-badge.svg\" alt=\"Open In Colab\"/></a>"
      ]
    },
    {
      "cell_type": "code",
      "execution_count": null,
      "metadata": {
        "colab": {
          "base_uri": "https://localhost:8080/"
        },
        "id": "q94nI1_1oH0a",
        "outputId": "a8bc9c85-7935-419e-9ef3-7f3b1d638d2a"
      },
      "outputs": [
        {
          "output_type": "stream",
          "name": "stdout",
          "text": [
            "0501\n"
          ]
        }
      ],
      "source": [
        "print(\"0501\")"
      ]
    },
    {
      "cell_type": "code",
      "source": [
        "money = int ( input ( \" 請輸入存款金額 \" ) ) \n",
        "i = money\n",
        "years = 1.02 ** 6\n",
        "i *= years\n",
        "print ( \" 6年後存款為： \" , i )\n",
        "\n"
      ],
      "metadata": {
        "id": "2fPwQD244VZ-",
        "colab": {
          "base_uri": "https://localhost:8080/"
        },
        "outputId": "5e185322-ea08-4e94-a0a8-cd2c92c4787e"
      },
      "execution_count": 14,
      "outputs": [
        {
          "output_type": "stream",
          "name": "stdout",
          "text": [
            " 請輸入存款金額 10000\n",
            " 6年後存款為：  11261.62419264\n"
          ]
        }
      ]
    }
  ]
}