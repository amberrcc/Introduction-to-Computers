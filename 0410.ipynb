{
  "nbformat": 4,
  "nbformat_minor": 0,
  "metadata": {
    "colab": {
      "provenance": [],
      "authorship_tag": "ABX9TyNE3RQKNG39gDNb+wdpUnvt",
      "include_colab_link": true
    },
    "kernelspec": {
      "name": "python3",
      "display_name": "Python 3"
    },
    "language_info": {
      "name": "python"
    }
  },
  "cells": [
    {
      "cell_type": "markdown",
      "metadata": {
        "id": "view-in-github",
        "colab_type": "text"
      },
      "source": [
        "<a href=\"https://colab.research.google.com/github/amberrcc/Introduction-to-Computers/blob/main/0410.ipynb\" target=\"_parent\"><img src=\"https://colab.research.google.com/assets/colab-badge.svg\" alt=\"Open In Colab\"/></a>"
      ]
    },
    {
      "cell_type": "code",
      "execution_count": null,
      "metadata": {
        "id": "TtILVtgt6kp7",
        "outputId": "d05a4418-fd1d-416b-c2f8-ac1acca37789",
        "colab": {
          "base_uri": "https://localhost:8080/"
        }
      },
      "outputs": [
        {
          "output_type": "stream",
          "name": "stdout",
          "text": [
            "0410\n"
          ]
        }
      ],
      "source": [
        "print(\"0410\")"
      ]
    },
    {
      "cell_type": "code",
      "source": [
        "6 + 9 == 2 + 13"
      ],
      "metadata": {
        "id": "mLQLqWYxHNTT",
        "colab": {
          "base_uri": "https://localhost:8080/"
        },
        "outputId": "17a29995-d53c-4e0e-cd7e-f2c10550bb6f"
      },
      "execution_count": 2,
      "outputs": [
        {
          "output_type": "execute_result",
          "data": {
            "text/plain": [
              "True"
            ]
          },
          "metadata": {},
          "execution_count": 2
        }
      ]
    },
    {
      "cell_type": "code",
      "source": [
        "6 + 9 == 2 + 14"
      ],
      "metadata": {
        "colab": {
          "base_uri": "https://localhost:8080/"
        },
        "id": "gUQAS-OXHg9p",
        "outputId": "91f3af8a-ecb0-423a-f5b9-f622abaf411f"
      },
      "execution_count": 3,
      "outputs": [
        {
          "output_type": "execute_result",
          "data": {
            "text/plain": [
              "False"
            ]
          },
          "metadata": {},
          "execution_count": 3
        }
      ]
    },
    {
      "cell_type": "code",
      "source": [
        "6 + 1 != 2 + 1"
      ],
      "metadata": {
        "colab": {
          "base_uri": "https://localhost:8080/"
        },
        "id": "_OYbbICZHj-t",
        "outputId": "b87af353-8fef-480e-f02a-a211ab59ecfb"
      },
      "execution_count": 4,
      "outputs": [
        {
          "output_type": "execute_result",
          "data": {
            "text/plain": [
              "True"
            ]
          },
          "metadata": {},
          "execution_count": 4
        }
      ]
    },
    {
      "cell_type": "code",
      "source": [
        "6 + 1 > 1 + 2"
      ],
      "metadata": {
        "colab": {
          "base_uri": "https://localhost:8080/"
        },
        "id": "xW37X1gRHov2",
        "outputId": "cc0b4459-3b88-44ad-b39a-35c0267c6424"
      },
      "execution_count": 5,
      "outputs": [
        {
          "output_type": "execute_result",
          "data": {
            "text/plain": [
              "True"
            ]
          },
          "metadata": {},
          "execution_count": 5
        }
      ]
    },
    {
      "cell_type": "code",
      "source": [
        "7 + 9 >= 10 + 200"
      ],
      "metadata": {
        "colab": {
          "base_uri": "https://localhost:8080/"
        },
        "id": "TpmbDhJzHuO6",
        "outputId": "fe3927b7-4062-48b2-e2a7-02191378fd67"
      },
      "execution_count": 6,
      "outputs": [
        {
          "output_type": "execute_result",
          "data": {
            "text/plain": [
              "False"
            ]
          },
          "metadata": {},
          "execution_count": 6
        }
      ]
    },
    {
      "cell_type": "code",
      "source": [
        "not(3>5)"
      ],
      "metadata": {
        "colab": {
          "base_uri": "https://localhost:8080/"
        },
        "id": "c2wVQDX5H0-U",
        "outputId": "02b9366c-8a28-47a5-cc2b-8e80112de4df"
      },
      "execution_count": 7,
      "outputs": [
        {
          "output_type": "execute_result",
          "data": {
            "text/plain": [
              "True"
            ]
          },
          "metadata": {},
          "execution_count": 7
        }
      ]
    },
    {
      "cell_type": "code",
      "source": [
        "i = 10"
      ],
      "metadata": {
        "id": "EfUq5EpjH_vP"
      },
      "execution_count": 13,
      "outputs": []
    },
    {
      "cell_type": "code",
      "source": [
        "i"
      ],
      "metadata": {
        "colab": {
          "base_uri": "https://localhost:8080/"
        },
        "id": "-12asa5hIG4O",
        "outputId": "810405d3-5310-4b1b-bb48-c4b90e88704f"
      },
      "execution_count": 14,
      "outputs": [
        {
          "output_type": "execute_result",
          "data": {
            "text/plain": [
              "10"
            ]
          },
          "metadata": {},
          "execution_count": 14
        }
      ]
    },
    {
      "cell_type": "code",
      "source": [
        "i += 5"
      ],
      "metadata": {
        "id": "vFgrdgZhIIS8"
      },
      "execution_count": 15,
      "outputs": []
    },
    {
      "cell_type": "code",
      "source": [
        "i"
      ],
      "metadata": {
        "colab": {
          "base_uri": "https://localhost:8080/"
        },
        "id": "CgOAR2vcIRXG",
        "outputId": "9a40c2e7-c239-45da-86cd-6c4a1f06bf04"
      },
      "execution_count": 16,
      "outputs": [
        {
          "output_type": "execute_result",
          "data": {
            "text/plain": [
              "15"
            ]
          },
          "metadata": {},
          "execution_count": 16
        }
      ]
    },
    {
      "cell_type": "code",
      "source": [
        "i -= 5"
      ],
      "metadata": {
        "id": "6SvxMJDdIXma"
      },
      "execution_count": 17,
      "outputs": []
    },
    {
      "cell_type": "code",
      "source": [
        "i"
      ],
      "metadata": {
        "colab": {
          "base_uri": "https://localhost:8080/"
        },
        "id": "m6os9qGoIdJ6",
        "outputId": "52fed845-f046-466a-8ff0-2069c3aa7821"
      },
      "execution_count": 18,
      "outputs": [
        {
          "output_type": "execute_result",
          "data": {
            "text/plain": [
              "10"
            ]
          },
          "metadata": {},
          "execution_count": 18
        }
      ]
    },
    {
      "cell_type": "code",
      "source": [
        "身高 = int(input(\"請輸入您的身高(cm)\"))\n",
        "體重 = int(input(\"請輸入您的體重(kg)\"))\n",
        "BMI = 體重 / (身高/100)**2\n",
        "print(\"身高\",身高,\"公分，\",\"體重\",體重,\"公斤，\",\"BMI值為\",BMI)"
      ],
      "metadata": {
        "colab": {
          "base_uri": "https://localhost:8080/"
        },
        "id": "cmgv9SaBIhK1",
        "outputId": "df87aebe-efb9-474f-b3ac-6ac4abfa85ae"
      },
      "execution_count": 22,
      "outputs": [
        {
          "output_type": "stream",
          "name": "stdout",
          "text": [
            "請輸入您的身高(cm)180\n",
            "請輸入您的體重(kg)80\n",
            "身高 180 公分， 體重 80 公斤， BMI值為 24.691358024691358\n"
          ]
        }
      ]
    },
    {
      "cell_type": "code",
      "source": [
        "print(type(67))\n",
        "print(type(\"66\"))\n",
        "print(type(78.87))\n",
        "print(type(True))"
      ],
      "metadata": {
        "colab": {
          "base_uri": "https://localhost:8080/"
        },
        "id": "xD309r3HRe0j",
        "outputId": "ab16b442-281b-4e03-f975-174085e21b86"
      },
      "execution_count": 25,
      "outputs": [
        {
          "output_type": "stream",
          "name": "stdout",
          "text": [
            "<class 'int'>\n",
            "<class 'str'>\n",
            "<class 'float'>\n",
            "<class 'bool'>\n"
          ]
        }
      ]
    },
    {
      "cell_type": "code",
      "source": [
        "a=1\n",
        "b=2\n",
        "c=3"
      ],
      "metadata": {
        "id": "K0BaZt7sRwIk"
      },
      "execution_count": 26,
      "outputs": []
    },
    {
      "cell_type": "code",
      "source": [
        "print(a,[b,c])"
      ],
      "metadata": {
        "colab": {
          "base_uri": "https://localhost:8080/"
        },
        "id": "X7PUoQW8SWeV",
        "outputId": "5dd7e0fd-56d2-453e-8001-911f1b387bc3"
      },
      "execution_count": 28,
      "outputs": [
        {
          "output_type": "stream",
          "name": "stdout",
          "text": [
            "1 [2, 3]\n"
          ]
        }
      ]
    },
    {
      "cell_type": "code",
      "source": [
        "print(\"hi\",\"hey\",\"hello\",sep=\"\\t\")"
      ],
      "metadata": {
        "colab": {
          "base_uri": "https://localhost:8080/"
        },
        "id": "z8-o-S7gSm6N",
        "outputId": "ac8c2d0d-0d56-4126-d66f-cc79ee94fb08"
      },
      "execution_count": 32,
      "outputs": [
        {
          "output_type": "stream",
          "name": "stdout",
          "text": [
            "hi\they\thello\n"
          ]
        }
      ]
    },
    {
      "cell_type": "code",
      "source": [
        "print(123,end=\",\")\n",
        "print(456)"
      ],
      "metadata": {
        "colab": {
          "base_uri": "https://localhost:8080/"
        },
        "id": "X2cW22BxS6LK",
        "outputId": "dc82b99b-5c70-4754-ed13-b74686e42eb6"
      },
      "execution_count": 33,
      "outputs": [
        {
          "output_type": "stream",
          "name": "stdout",
          "text": [
            "123,456\n"
          ]
        }
      ]
    },
    {
      "cell_type": "code",
      "source": [
        "test1 =float(input(\"今天是幾號?\"))"
      ],
      "metadata": {
        "colab": {
          "base_uri": "https://localhost:8080/"
        },
        "id": "_Q1bOz2-TJIT",
        "outputId": "cb143853-5911-4461-d805-c04238bcb8f3"
      },
      "execution_count": 38,
      "outputs": [
        {
          "name": "stdout",
          "output_type": "stream",
          "text": [
            "今天是幾號?2\n"
          ]
        }
      ]
    },
    {
      "cell_type": "code",
      "source": [
        "test1"
      ],
      "metadata": {
        "colab": {
          "base_uri": "https://localhost:8080/"
        },
        "id": "bXhYGQT9TTpC",
        "outputId": "2d0ecc2f-4309-4789-c05a-ea7dc6183805"
      },
      "execution_count": 39,
      "outputs": [
        {
          "output_type": "execute_result",
          "data": {
            "text/plain": [
              "2.0"
            ]
          },
          "metadata": {},
          "execution_count": 39
        }
      ]
    },
    {
      "cell_type": "code",
      "source": [
        "國文 = int(input(\"請輸入你的國文成績\"))\n",
        "數學 = int(input(\"請輸入你的數學成績\"))\n",
        "英文 = int(input(\"請輸入你的英文成績\"))\n",
        "總成績 = 國文 + 英文 + 數學\n",
        "print(\"你的國文成績為：\",國文,\"你的數學成績為：\",數學,\"你的英文成績為：\",英文,\"你的總成績為：\",總成績)"
      ],
      "metadata": {
        "colab": {
          "base_uri": "https://localhost:8080/"
        },
        "id": "EsOLUNF3Tjcx",
        "outputId": "07ad28d7-32f0-43b0-fa0b-05c815d88bab"
      },
      "execution_count": 40,
      "outputs": [
        {
          "output_type": "stream",
          "name": "stdout",
          "text": [
            "請輸入你的國文成績50\n",
            "請輸入你的數學成績60\n",
            "請輸入你的英文成績70\n",
            "你的國文成績為： 50 你的數學成績為： 60 你的英文成績為： 70 你的總成績為： 180\n"
          ]
        }
      ]
    },
    {
      "cell_type": "code",
      "source": [
        "import itertools\n",
        "\n",
        "numbers = [1, 2, 3, 4]\n",
        "permutations = list(itertools.permutations(numbers, 3))   # 生成由 1、2、3、4 組成的三位數排列\n",
        "\n",
        "for p in permutations:\n",
        "    print(\"\".join(str(n) for n in p))   # 將每個排列中的數字轉換為字串，並用 join 函數合併成一個字串，然後印出"
      ],
      "metadata": {
        "colab": {
          "base_uri": "https://localhost:8080/"
        },
        "id": "d3YCEXS0Uosm",
        "outputId": "eefbd1ae-c5fe-46fd-e9d8-785f80e36511"
      },
      "execution_count": 41,
      "outputs": [
        {
          "output_type": "stream",
          "name": "stdout",
          "text": [
            "123\n",
            "124\n",
            "132\n",
            "134\n",
            "142\n",
            "143\n",
            "213\n",
            "214\n",
            "231\n",
            "234\n",
            "241\n",
            "243\n",
            "312\n",
            "314\n",
            "321\n",
            "324\n",
            "341\n",
            "342\n",
            "412\n",
            "413\n",
            "421\n",
            "423\n",
            "431\n",
            "432\n"
          ]
        }
      ]
    }
  ]
}